{
  "nbformat": 4,
  "nbformat_minor": 0,
  "metadata": {
    "colab": {
      "name": "Untitled4.ipynb",
      "provenance": []
    },
    "kernelspec": {
      "name": "python3",
      "display_name": "Python 3"
    },
    "language_info": {
      "name": "python"
    }
  },
  "cells": [
    {
      "cell_type": "code",
      "metadata": {
        "id": "xpDjep1IYKDJ"
      },
      "source": [
        "# importing resources\n",
        "import matplotlib.pyplot as plt\n",
        "import numpy as np\n"
      ],
      "execution_count": 1,
      "outputs": []
    },
    {
      "cell_type": "code",
      "metadata": {
        "colab": {
          "base_uri": "https://localhost:8080/"
        },
        "id": "gue9ZrItYMCV",
        "outputId": "e835b79d-0b0d-4174-c5df-f6e0f7aff369"
      },
      "source": [
        "# uniform distribution for 5 grid cells\n",
        "# we use \"p\" to represent probability\n",
        "p = [0.2, 0.2, 0.2, 0.2, 0.2]\n",
        "print(p)"
      ],
      "execution_count": 6,
      "outputs": [
        {
          "output_type": "stream",
          "name": "stdout",
          "text": [
            "[0.2, 0.2, 0.2, 0.2, 0.2]\n"
          ]
        }
      ]
    },
    {
      "cell_type": "code",
      "metadata": {
        "colab": {
          "base_uri": "https://localhost:8080/",
          "height": 295
        },
        "id": "BnuCrCupYRlu",
        "outputId": "0283734e-4342-40c7-a86c-b127c316dd15"
      },
      "source": [
        "\n",
        "def display_map(grid, bar_width=1):\n",
        "    if(len(grid) > 0):\n",
        "        x_labels = range(len(grid))\n",
        "        plt.bar(x_labels, height=grid, width=bar_width, color='b')\n",
        "        plt.xlabel('Grid Cell')\n",
        "        plt.ylabel('Probability')\n",
        "        plt.ylim(0, 1) # range of 0-1 for probability values \n",
        "        plt.title('Probability of the robot being at each cell in the grid')\n",
        "        plt.xticks(np.arange(min(x_labels), max(x_labels)+1, 1))\n",
        "        plt.show()\n",
        "    else:\n",
        "        print('Grid is empty')\n",
        "\n",
        "# call function on grid, p, from before\n",
        "display_map(p)"
      ],
      "execution_count": 7,
      "outputs": [
        {
          "output_type": "display_data",
          "data": {
            "image/png": "[encoded data removed]",
            "text/plain": [
              "<Figure size 432x288 with 1 Axes>"
            ]
          },
          "metadata": {
            "needs_background": "light"
          }
        }
      ]
    },
    {
      "cell_type": "code",
      "metadata": {
        "id": "U0OwojJwYhtU"
      },
      "source": [
        "# ex. initialize_robot(5) = [0.2, 0.2, 0.2, 0.2, 0.2]\n",
        "def initialize_robot(grid_length):\n",
        "    ''' Takes in a grid length and returns \n",
        "       a uniform distribution of location probabilities'''\n",
        "    p = np.full(\n",
        "    shape=grid_length,\n",
        "    fill_value=1/grid_length,\n",
        "    dtype=np.float)\n",
        "    \n",
        "    return p"
      ],
      "execution_count": 14,
      "outputs": []
    },
    {
      "cell_type": "code",
      "metadata": {
        "colab": {
          "base_uri": "https://localhost:8080/",
          "height": 329
        },
        "id": "QM3h38JMZF14",
        "outputId": "046fb32a-194f-4880-d5f7-d28152347ebb"
      },
      "source": [
        "p = initialize_robot(20)\n",
        "print(p)\n",
        "display_map(p)\n"
      ],
      "execution_count": 18,
      "outputs": [
        {
          "output_type": "stream",
          "name": "stdout",
          "text": [
            "[0.05 0.05 0.05 0.05 0.05 0.05 0.05 0.05 0.05 0.05 0.05 0.05 0.05 0.05\n",
            " 0.05 0.05 0.05 0.05 0.05 0.05]\n"
          ]
        },
        {
          "output_type": "display_data",
          "data": {
            "image/png": "[encoded data removed]",
            "text/plain": [
              "<Figure size 432x288 with 1 Axes>"
            ]
          },
          "metadata": {
            "needs_background": "light"
          }
        }
      ]
    }
  ]
}