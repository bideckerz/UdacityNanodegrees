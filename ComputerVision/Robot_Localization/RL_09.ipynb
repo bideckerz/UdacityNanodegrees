{
  "nbformat": 4,
  "nbformat_minor": 0,
  "metadata": {
    "colab": {
      "name": "Untitled4.ipynb",
      "provenance": []
    },
    "kernelspec": {
      "name": "python3",
      "display_name": "Python 3"
    },
    "language_info": {
      "name": "python"
    }
  },
  "cells": [
    {
      "cell_type": "code",
      "metadata": {
        "id": "xpDjep1IYKDJ"
      },
      "source": [
        "# importing resources\n",
        "import matplotlib.pyplot as plt\n",
        "import numpy as np"
      ],
      "execution_count": 19,
      "outputs": []
    },
    {
      "cell_type": "code",
      "metadata": {
        "id": "gue9ZrItYMCV"
      },
      "source": [
        "# ex. initialize_robot(5) = [0.2, 0.2, 0.2, 0.2, 0.2]\n",
        "def initialize_robot(grid_length):\n",
        "    ''' Takes in a grid length and returns \n",
        "       a uniform distribution of location probabilities'''\n",
        "    \n",
        "    p = []\n",
        "    \n",
        "    # create a list that has the value of 1/grid_length for each cell\n",
        "    for i in range(grid_length):\n",
        "        p.append(1.0/grid_length)\n",
        "        \n",
        "    return p"
      ],
      "execution_count": 20,
      "outputs": []
    },
    {
      "cell_type": "code",
      "metadata": {
        "id": "BnuCrCupYRlu"
      },
      "source": [
        "def display_map(grid, bar_width=1):\n",
        "    if(len(grid) > 0):\n",
        "        x_labels = range(len(grid))\n",
        "        plt.bar(x_labels, height=grid, width=bar_width, color='b')\n",
        "        plt.xlabel('Grid Cell')\n",
        "        plt.ylabel('Probability')\n",
        "        plt.ylim(0, 1) # range of 0-1 for probability values \n",
        "        plt.title('Probability of the robot being at each cell in the grid')\n",
        "        plt.xticks(np.arange(min(x_labels), max(x_labels)+1, 1))\n",
        "        plt.show()\n",
        "    else:\n",
        "        print('Grid is empty')"
      ],
      "execution_count": 21,
      "outputs": []
    },
    {
      "cell_type": "code",
      "metadata": {
        "colab": {
          "base_uri": "https://localhost:8080/",
          "height": 295
        },
        "id": "U0OwojJwYhtU",
        "outputId": "f0eb680e-ce3d-4638-d1cc-ec9e1729f61c"
      },
      "source": [
        "# initialize a 5 cell, 1D world\n",
        "p = initialize_robot(5)\n",
        "display_map(p)"
      ],
      "execution_count": 22,
      "outputs": [
        {
          "output_type": "display_data",
          "data": {
            "image/png": "[encoded data removed]",
            "text/plain": [
              "<Figure size 432x288 with 1 Axes>"
            ]
          },
          "metadata": {
            "needs_background": "light"
          }
        }
      ]
    },
    {
      "cell_type": "code",
      "metadata": {
        "colab": {
          "base_uri": "https://localhost:8080/",
          "height": 312
        },
        "id": "fr7fvQkVcmM7",
        "outputId": "c062622d-8218-43f0-d3fe-6f2cfb12e639"
      },
      "source": [
        "\n",
        "# given initial variables\n",
        "p = initialize_robot(5)\n",
        "pHit  = 0.6\n",
        "pMiss = 0.2\n",
        "\n",
        "# Creates a new grid, with modified probabilities, after sensing\n",
        "# All values are calculated by a product of 1. the sensing probability for a color (pHit for red)\n",
        "# and 2. the current probability of a robot being in that location p[i]; all equal to 0.2 at first.\n",
        "p[0] = p[0]*pMiss\n",
        "p[1] = p[1]*pHit\n",
        "p[2] = p[2]*pHit\n",
        "p[3] = p[3]*pMiss\n",
        "p[4] = p[4]*pMiss\n",
        "\n",
        "print(p)\n",
        "display_map(p)"
      ],
      "execution_count": 23,
      "outputs": [
        {
          "output_type": "stream",
          "name": "stdout",
          "text": [
            "[0.04000000000000001, 0.12, 0.12, 0.04000000000000001, 0.04000000000000001]\n"
          ]
        },
        {
          "output_type": "display_data",
          "data": {
            "image/png": "[encoded data removed]",
            "text/plain": [
              "<Figure size 432x288 with 1 Axes>"
            ]
          },
          "metadata": {
            "needs_background": "light"
          }
        }
      ]
    },
    {
      "cell_type": "code",
      "metadata": {
        "colab": {
          "base_uri": "https://localhost:8080/"
        },
        "id": "j_mdDhUrc7J9",
        "outputId": "2b93273e-18fb-4386-a028-4b8ad34f7c12"
      },
      "source": [
        "sum=0\n",
        "for i in range(0, len(p)):    \n",
        "   sum = sum + p[i];  \n",
        "\n",
        "print(sum)"
      ],
      "execution_count": 25,
      "outputs": [
        {
          "output_type": "stream",
          "name": "stdout",
          "text": [
            "0.3600000000000001\n"
          ]
        }
      ]
    }
  ]
}